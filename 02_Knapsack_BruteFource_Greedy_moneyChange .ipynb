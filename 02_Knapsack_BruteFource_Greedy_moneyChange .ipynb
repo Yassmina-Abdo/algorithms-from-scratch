{
  "cells": [
    {
      "cell_type": "markdown",
      "metadata": {
        "id": "view-in-github",
        "colab_type": "text"
      },
      "source": [
        "<a href=\"https://colab.research.google.com/github/Yassmina-Abdo/algorithms-from-scratch/blob/main/02_Knapsack_BruteFource_Greedy_moneyChange%20.ipynb\" target=\"_parent\"><img src=\"https://colab.research.google.com/assets/colab-badge.svg\" alt=\"Open In Colab\"/></a>"
      ]
    },
    {
      "cell_type": "markdown",
      "id": "06a1c895",
      "metadata": {
        "id": "06a1c895"
      },
      "source": [
        "## 0-1 Knapsack Brute Fource Algorithm"
      ]
    },
    {
      "cell_type": "code",
      "execution_count": null,
      "id": "3425184d",
      "metadata": {
        "id": "3425184d"
      },
      "outputs": [],
      "source": [
        "def KnapSack_BruteForce(W, wt, val, n):\n",
        "    if n == 0 or W == 0 :\n",
        "        return 0 \n",
        "    \n",
        "    if (wt[n-1] > W):\n",
        "        \n",
        "        return KnapSack_BruteForce(W, wt, val, n-1)\n",
        "    \n",
        "    else:\n",
        "        \n",
        "        return max(val[n-1] + KnapSack_BruteForce(W-wt[n-1], wt, val, n-1), KnapSack_BruteForce(W, wt, val, n-1))\n",
        "    \n",
        "    "
      ]
    },
    {
      "cell_type": "code",
      "execution_count": null,
      "id": "52726f9c",
      "metadata": {
        "id": "52726f9c",
        "outputId": "0379007c-da8c-4f44-e1b5-a452c200de07"
      },
      "outputs": [
        {
          "name": "stdout",
          "output_type": "stream",
          "text": [
            "220\n",
            "Time Comlexity = 2^n\n"
          ]
        }
      ],
      "source": [
        "val = [60, 100, 120]\n",
        "wt = [10, 20, 30]\n",
        "W = 50\n",
        "n = len(val)\n",
        "print (KnapSack_BruteForce(W, wt, val, n))\n",
        "print('Time Comlexity = 2^n')"
      ]
    },
    {
      "cell_type": "markdown",
      "id": "039f4f16",
      "metadata": {
        "id": "039f4f16"
      },
      "source": [
        "## KnapSack 0-1 Greedy"
      ]
    },
    {
      "cell_type": "code",
      "execution_count": null,
      "id": "c43ad99e",
      "metadata": {
        "id": "c43ad99e"
      },
      "outputs": [],
      "source": [
        "def KnapSack0_1_Greedy(p,w,cap,n):\n",
        "    sack=[]\n",
        "    fractions=[]\n",
        "    items=[]\n",
        "    totalprofits=0\n",
        "    #-------------------------------\n",
        "    for i in range(n):\n",
        "\n",
        "        if cap==0:\n",
        "            fractions.append(0)\n",
        "            items.append(i)\n",
        "\n",
        "        if w[i] <= cap:\n",
        "            sack.append(w[i])\n",
        "            cap = cap - w[i]\n",
        "            fractions.append(1)\n",
        "            items.append(i)\n",
        "            totalprofits+=p[i]\n",
        "        else:\n",
        "            fractions.append(0)\n",
        "            items.append(i)\n",
        "           \n",
        "            sack.append(0)\n",
        "            \n",
        "\n",
        "       \n",
        "            \n",
        "    return items,sack,fractions,totalprofits    \n",
        "    "
      ]
    },
    {
      "cell_type": "code",
      "execution_count": null,
      "id": "38e44d0e",
      "metadata": {
        "id": "38e44d0e",
        "outputId": "e44f3f76-6286-40a0-fbcd-0c968eaf1682"
      },
      "outputs": [
        {
          "name": "stdout",
          "output_type": "stream",
          "text": [
            "Item\tWeight\tProfit Value\tKnapSack\tboolean\n",
            "1\t10\t60\t6\t10\t\t1.00\n",
            "2\t20\t100\t5\t20\t\t1.00\n",
            "3\t30\t120\t4\t0\t\t0.00\n",
            "---------------------------\n",
            "totalprofits = 160\n",
            "---------------------------\n",
            "Time Comlexity = N and if we sort = O(N Log N)\n"
          ]
        }
      ],
      "source": [
        "import numpy as np\n",
        "p = np.array([60, 100, 120])\n",
        "w = np.array([10, 20, 30])\n",
        "cap=50\n",
        "n = len(p)\n",
        "\n",
        "items,sack,fractions,totalprofits = KnapSack0_1_Greedy(p,w,cap,n)\n",
        "print(\"Item\\tWeight\\tProfit Value\\tKnapSack\\tboolean\")\n",
        "for i in range(n):\n",
        "    print(\"%d\\t%d\\t%d\\t%d\\t%d\\t\\t%0.2f\"%(items[i]+1,w[i],p[i],pw[i],sack[i],fractions[i]))\n",
        "\n",
        "print('---------------------------')\n",
        "print(f\"totalprofits = {totalprofits}\")\n",
        "print('---------------------------')\n",
        "print(\"Time Comlexity = N and if we sort = O(N Log N)\")"
      ]
    },
    {
      "cell_type": "markdown",
      "id": "a0ecd145",
      "metadata": {
        "id": "a0ecd145"
      },
      "source": [
        "## KnapSack Fractional Optimal Greedy"
      ]
    },
    {
      "cell_type": "code",
      "execution_count": null,
      "id": "272c42ea",
      "metadata": {
        "id": "272c42ea"
      },
      "outputs": [],
      "source": [
        "def KnapSackFractional_Greedy(p,w,pw,cap,n):\n",
        "    sack=[]\n",
        "    fractions=[]\n",
        "    items=[]\n",
        "    totalprofits=0\n",
        "    #-------------------------------\n",
        "    for i in range(n):\n",
        "\n",
        "        if cap==0:\n",
        "            fractions.append(0)\n",
        "            items.append(i)\n",
        "\n",
        "        if w[i] <= cap:\n",
        "            sack.append(w[i])\n",
        "            cap = cap - w[i]\n",
        "            fractions.append(1)\n",
        "            items.append(i)\n",
        "            totalprofits+=p[i]\n",
        "\n",
        "        elif  w[i] > cap:\n",
        "            sack.append(cap)\n",
        "            fractions.append(cap/w[i])\n",
        "            items.append(i)\n",
        "            totalprofits+=(cap/w[i])*p[i]\n",
        "            \n",
        "    return items,sack,fractions,totalprofits    \n",
        "    \n",
        "    "
      ]
    },
    {
      "cell_type": "code",
      "execution_count": null,
      "id": "0a9140f3",
      "metadata": {
        "id": "0a9140f3",
        "outputId": "f099d1eb-c50e-4726-a740-a706b8b3bc2c"
      },
      "outputs": [
        {
          "name": "stdout",
          "output_type": "stream",
          "text": [
            "Item\tWeight\tProfit Value\tKnapSack\tFraction\n",
            "1\t10\t60\t6\t10\t\t1.00\n",
            "2\t20\t100\t5\t20\t\t1.00\n",
            "3\t30\t120\t4\t20\t\t0.67\n",
            "---------------------------\n",
            "totalprofits = 240.0\n",
            "---------------------------\n",
            "Time Comlexity = N and if we sort = O(N Log N)\n"
          ]
        }
      ],
      "source": [
        "import numpy as np\n",
        "p = np.array([60, 100, 120])\n",
        "w = np.array([10, 20, 30])\n",
        "pw = p /w\n",
        "cap=50\n",
        "n = len(p)\n",
        "\n",
        "items,sack,fractions,totalprofits = KnapSackFractional_Greedy(p,w,pw,cap,n)\n",
        "print(\"Item\\tWeight\\tProfit Value\\tKnapSack\\tFraction\")\n",
        "for i in range(n):\n",
        "    print(\"%d\\t%d\\t%d\\t%d\\t%d\\t\\t%0.2f\"%(items[i]+1,w[i],p[i],pw[i],sack[i],fractions[i]))\n",
        "\n",
        "print('---------------------------')\n",
        "print(f\"totalprofits = {totalprofits}\")\n",
        "print('---------------------------')\n",
        "print(\"Time Comlexity = N and if we sort = O(N Log N)\")"
      ]
    },
    {
      "cell_type": "markdown",
      "id": "2d5a06ed",
      "metadata": {
        "id": "2d5a06ed"
      },
      "source": [
        "## Money Change"
      ]
    },
    {
      "cell_type": "markdown",
      "id": "bf55b0b5",
      "metadata": {
        "id": "bf55b0b5"
      },
      "source": [
        "## Greedy"
      ]
    },
    {
      "cell_type": "code",
      "execution_count": null,
      "id": "3cb5051f",
      "metadata": {
        "id": "3cb5051f"
      },
      "outputs": [],
      "source": [
        "def MoneyChange_Greedy(V,Arr,n):\n",
        "    res_set=[]\n",
        "    i=0\n",
        "    while V!=0:            \n",
        "        \n",
        "        if V >= Arr[i]:\n",
        "            res_set.append(Arr[i])\n",
        "            V= V- Arr[i]      \n",
        "            i=0        \n",
        "        else:    \n",
        "            i+=1               \n",
        "    return len(res_set),res_set        \n",
        "            \n",
        "    \n",
        "    \n",
        "    "
      ]
    },
    {
      "cell_type": "code",
      "execution_count": null,
      "id": "b3a4f292",
      "metadata": {
        "id": "b3a4f292",
        "outputId": "5afe25f1-9548-43e5-ca20-7554264ae821"
      },
      "outputs": [
        {
          "name": "stdout",
          "output_type": "stream",
          "text": [
            "(5, [20, 1, 1, 1, 1])\n"
          ]
        }
      ],
      "source": [
        "V= 24\n",
        "denominations=[200,100,50,20,10,5,1]\n",
        "n=len(denominations)\n",
        "print (MoneyChange_Greedy(V,denominations,n))"
      ]
    },
    {
      "cell_type": "code",
      "execution_count": null,
      "id": "b00533e9",
      "metadata": {
        "id": "b00533e9",
        "outputId": "27446e59-c7db-4221-98a1-16fd7ba4e8f1"
      },
      "outputs": [
        {
          "name": "stdout",
          "output_type": "stream",
          "text": [
            "(3, [9, 1, 1])\n",
            "--------------------------\n",
            "Fail To make Optimal Coins\n"
          ]
        }
      ],
      "source": [
        "V=11\n",
        "denominations=[9,6,5,1]\n",
        "n=len(denominations)\n",
        "print (MoneyChange_Greedy(V,denominations,n))\n",
        "print('--------------------------')\n",
        "print('Fail To make Optimal Coins')"
      ]
    },
    {
      "cell_type": "markdown",
      "id": "a85dbeb6",
      "metadata": {
        "id": "a85dbeb6"
      },
      "source": [
        "## Optimal"
      ]
    },
    {
      "cell_type": "code",
      "execution_count": null,
      "id": "25164e5b",
      "metadata": {
        "id": "25164e5b"
      },
      "outputs": [],
      "source": [
        "def MoneyChange_BruteForce(V,Arr):\n",
        "    if V == 0:\n",
        "        return 0,[[]]    \n",
        "    if V < 0:\n",
        "        return 0, []    \n",
        "    else:\n",
        "        all_combinations = []\n",
        "        for i in Arr:\n",
        "            _,result = MoneyChange_BruteForce(V-i,Arr)\n",
        "            for combo in result:\n",
        "                combo.append(i)\n",
        "            all_combinations.extend(result)\n",
        "\n",
        "    \n",
        "    \n",
        "    return len(min(all_combinations,key=len)), [min(all_combinations,key=len)]\n",
        "\n"
      ]
    },
    {
      "cell_type": "code",
      "execution_count": null,
      "id": "eac6302e",
      "metadata": {
        "id": "eac6302e",
        "outputId": "2d2f6d18-de24-4d10-e00f-c75b91c7aae2"
      },
      "outputs": [
        {
          "name": "stdout",
          "output_type": "stream",
          "text": [
            "(5, [[1, 1, 1, 1, 20]])\n"
          ]
        }
      ],
      "source": [
        "V= 24\n",
        "denominations=[200,100,50,20,10,5,1]\n",
        "print (MoneyChange_BruteForce(V,denominations))"
      ]
    },
    {
      "cell_type": "code",
      "execution_count": null,
      "id": "e1187abc",
      "metadata": {
        "id": "e1187abc",
        "outputId": "61753a2a-f581-4368-ead6-6577c477fe4b"
      },
      "outputs": [
        {
          "name": "stdout",
          "output_type": "stream",
          "text": [
            "(2, [[6, 5]])\n"
          ]
        }
      ],
      "source": [
        "V=11\n",
        "denominations=[1,5,6,9]\n",
        "print(MoneyChange_BruteForce(V,denominations))\n",
        "print('---------------------------------')\n",
        "print('Success To make Optimal Coins')\n"
      ]
    },
    {
      "cell_type": "markdown",
      "id": "28c14cf6",
      "metadata": {
        "id": "28c14cf6"
      },
      "source": [
        "## so we Note that in case of egyptian coins, solution is the same by greedy or optimal algorithm\n",
        "\n",
        "## Time Complexity of Greedy Algorithm = O(N) or O(Nlog N) if sort first\n",
        "\n",
        "## Time Complexity Of Brute Force Algorithm = 2^n"
      ]
    }
  ],
  "metadata": {
    "kernelspec": {
      "display_name": "Python 3 (ipykernel)",
      "language": "python",
      "name": "python3"
    },
    "language_info": {
      "codemirror_mode": {
        "name": "ipython",
        "version": 3
      },
      "file_extension": ".py",
      "mimetype": "text/x-python",
      "name": "python",
      "nbconvert_exporter": "python",
      "pygments_lexer": "ipython3",
      "version": "3.9.7"
    },
    "colab": {
      "name": "Lab2_Answers_YassminaAbdo.ipynb",
      "provenance": [],
      "include_colab_link": true
    }
  },
  "nbformat": 4,
  "nbformat_minor": 5
}