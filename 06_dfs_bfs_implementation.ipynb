{
  "cells": [
    {
      "cell_type": "markdown",
      "metadata": {
        "id": "view-in-github",
        "colab_type": "text"
      },
      "source": [
        "<a href=\"https://colab.research.google.com/github/Yassmina-Abdo/algorithms-from-scratch/blob/main/06_dfs_bfs_implementation.ipynb\" target=\"_parent\"><img src=\"https://colab.research.google.com/assets/colab-badge.svg\" alt=\"Open In Colab\"/></a>"
      ]
    },
    {
      "cell_type": "markdown",
      "id": "4fce2d9d",
      "metadata": {
        "id": "4fce2d9d"
      },
      "source": [
        "## 1.DFS"
      ]
    },
    {
      "cell_type": "code",
      "execution_count": null,
      "id": "1ae76a15",
      "metadata": {
        "id": "1ae76a15"
      },
      "outputs": [],
      "source": [
        "G = {    0: [1,3,8],\n",
        "         1: [0,7],      \n",
        "         2: [3,5,7],\n",
        "         3: [0,2,4],\n",
        "         4: [3,8],\n",
        "         5: [2,6],\n",
        "         6: [],\n",
        "         7: [1,2],\n",
        "         8: [0,4]\n",
        "    }"
      ]
    },
    {
      "cell_type": "code",
      "execution_count": null,
      "id": "13dfcedb",
      "metadata": {
        "id": "13dfcedb"
      },
      "outputs": [],
      "source": [
        "def DFS(g, source):\n",
        "    visited.append(stack[-1])\n",
        "    stack.pop()\n",
        "\n",
        "    for i in range(len(source)):\n",
        "        if source[i] not in visited :\n",
        "            if source[i] in stack:\n",
        "                 stack.remove(source[i])\n",
        "            stack.append(source[i])\n",
        "\n",
        "    if stack:\n",
        "        DFS(g, g[stack[-1]])\n",
        "    \n",
        "    return visited    "
      ]
    },
    {
      "cell_type": "code",
      "execution_count": null,
      "id": "05b53612",
      "metadata": {
        "id": "05b53612",
        "outputId": "7b74ee8f-a45f-498e-df3b-acdbf455d71e"
      },
      "outputs": [
        {
          "name": "stdout",
          "output_type": "stream",
          "text": [
            "[0, 8, 4, 3, 2, 7, 1, 5, 6]\n"
          ]
        }
      ],
      "source": [
        "stack=[0]\n",
        "visited=[]\n",
        "Adj=[]\n",
        "print(DFS(G,G[0]))"
      ]
    },
    {
      "cell_type": "markdown",
      "id": "4998c927",
      "metadata": {
        "id": "4998c927"
      },
      "source": [
        "## 2. BFS"
      ]
    },
    {
      "cell_type": "code",
      "execution_count": null,
      "id": "282c82d1",
      "metadata": {
        "id": "282c82d1"
      },
      "outputs": [],
      "source": [
        "def BFS(g, source, visited):\n",
        "    visited.append(source)\n",
        "\n",
        "    for i in g[source]:\n",
        "        if i not in queue and i not in visited:\n",
        "            queue.append(i)\n",
        "    while queue:\n",
        "        BFS(g, queue.pop(0), visited)\n",
        "\n",
        "    return  visited\n"
      ]
    },
    {
      "cell_type": "code",
      "execution_count": null,
      "id": "425dffbc",
      "metadata": {
        "id": "425dffbc",
        "outputId": "477703ba-579b-4fda-ac6f-397640764fd7"
      },
      "outputs": [
        {
          "name": "stdout",
          "output_type": "stream",
          "text": [
            "[0, 1, 3, 8, 7, 2, 4, 5, 6]\n"
          ]
        }
      ],
      "source": [
        "visited=[]\n",
        "queue=[]\n",
        "print(BFS(G,0,visited))"
      ]
    },
    {
      "cell_type": "markdown",
      "id": "076c5915",
      "metadata": {
        "id": "076c5915"
      },
      "source": [
        "## 3. Dijkstra"
      ]
    },
    {
      "cell_type": "code",
      "execution_count": null,
      "id": "3b137333",
      "metadata": {
        "id": "3b137333",
        "outputId": "92ca636a-c495-4009-c48f-6c6211e2395c"
      },
      "outputs": [
        {
          "name": "stdout",
          "output_type": "stream",
          "text": [
            "[(1, 8), (2, 9)]\n"
          ]
        }
      ],
      "source": [
        "from numpy import Inf\n",
        "graph = {\n",
        "    0: [(1, 8),(2,9)],\n",
        "    1: [(0, 8), (6, 9), (3, 1),(5,7)],\n",
        "    2: [(0,9), (5, 6), (6, 4)],\n",
        "    \n",
        "    3: [(1, 1), (7, 4)],\n",
        "    4: [(7, 7), (6, 7)],\n",
        "    5: [(1, 7), (2, 6),(7,2)],\n",
        "    \n",
        "    6: [(1, 9), (2, 4),(4,7)],\n",
        "    7: [(3, 4), (5, 2),(6,6),(4,7)]\n",
        "}\n",
        "\n",
        "print(graph[0])"
      ]
    },
    {
      "cell_type": "code",
      "execution_count": null,
      "id": "15123763",
      "metadata": {
        "id": "15123763"
      },
      "outputs": [],
      "source": [
        "def init(graph):\n",
        "    distance=[Inf for _ in range(len(graph)) ]\n",
        "    distance[0]=0\n",
        "    visited =[False for _ in range(len(graph))]\n",
        "    return distance , visited\n",
        "    "
      ]
    },
    {
      "cell_type": "code",
      "execution_count": null,
      "id": "bf20d496",
      "metadata": {
        "id": "bf20d496"
      },
      "outputs": [],
      "source": [
        "def naive_dijkstras(graph, root,dist , visited):\n",
        "    n= len(graph)\n",
        "    for _ in range(n):\n",
        "        u = -1\n",
        "        for i in range(n):\n",
        "           \n",
        "            if not visited[i] and (u == -1 or dist[i] < dist[u]):\n",
        "                u = i\n",
        "                \n",
        "        if dist[u] == Inf:\n",
        "            break\n",
        "            \n",
        "        visited[u] = True\n",
        "        \n",
        "        for v, l in graph[u]:\n",
        "            if dist[u] + l < dist[v]:\n",
        "                dist[v] = dist[u] + l\n",
        "    return dist"
      ]
    },
    {
      "cell_type": "code",
      "execution_count": null,
      "id": "c1fe3269",
      "metadata": {
        "id": "c1fe3269",
        "outputId": "809e3a0b-2ab4-4550-b117-d45352430bf8"
      },
      "outputs": [
        {
          "name": "stdout",
          "output_type": "stream",
          "text": [
            "[0, 8, 9, 9, 20, 15, 13, 13]\n"
          ]
        }
      ],
      "source": [
        "distance , visited=init(graph)\n",
        "distance= naive_dijkstras(graph,0, distance , visited)\n",
        "print(distance)"
      ]
    },
    {
      "cell_type": "code",
      "execution_count": null,
      "id": "87f352e8",
      "metadata": {
        "id": "87f352e8"
      },
      "outputs": [],
      "source": [
        ""
      ]
    }
  ],
  "metadata": {
    "kernelspec": {
      "display_name": "Python 3 (ipykernel)",
      "language": "python",
      "name": "python3"
    },
    "language_info": {
      "codemirror_mode": {
        "name": "ipython",
        "version": 3
      },
      "file_extension": ".py",
      "mimetype": "text/x-python",
      "name": "python",
      "nbconvert_exporter": "python",
      "pygments_lexer": "ipython3",
      "version": "3.9.7"
    },
    "colab": {
      "name": "Lab6_Answers_YassminaAbdo.ipynb",
      "provenance": [],
      "include_colab_link": true
    }
  },
  "nbformat": 4,
  "nbformat_minor": 5
}