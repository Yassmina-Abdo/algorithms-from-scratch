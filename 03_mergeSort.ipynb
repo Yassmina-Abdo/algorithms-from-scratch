{
  "cells": [
    {
      "cell_type": "markdown",
      "metadata": {
        "id": "view-in-github",
        "colab_type": "text"
      },
      "source": [
        "<a href=\"https://colab.research.google.com/github/Yassmina-Abdo/algorithms-from-scratch/blob/main/03_mergeSort.ipynb\" target=\"_parent\"><img src=\"https://colab.research.google.com/assets/colab-badge.svg\" alt=\"Open In Colab\"/></a>"
      ]
    },
    {
      "cell_type": "markdown",
      "id": "428b2c94",
      "metadata": {
        "id": "428b2c94"
      },
      "source": [
        "# Merge Sort\n",
        "\n",
        "## Time Comlexity = O(NLog N)\n",
        "\n",
        "## Simulation is done by dance algorithom, because we merge each branch and sort them\n",
        "## then start to merge and sort another branch\n",
        "## but actuallu\n"
      ]
    },
    {
      "cell_type": "code",
      "execution_count": null,
      "id": "c95cfd38",
      "metadata": {
        "id": "c95cfd38"
      },
      "outputs": [],
      "source": [
        "def mergeSort(array):\n",
        "    if len(array) > 1:\n",
        "\n",
        "        L = array[:len(array) // 2]\n",
        "        R = array[len(array) // 2:]\n",
        "\n",
        "        mergeSort(L)\n",
        "        mergeSort(R)\n",
        "\n",
        "        i = j = k = 0\n",
        "\n",
        "        while i < len(L) and j < len(R):\n",
        "            if L[i] < R[j]:\n",
        "                array[k] = L[i]\n",
        "                i += 1\n",
        "            else:\n",
        "                array[k] = R[j]\n",
        "                j += 1\n",
        "            k += 1\n",
        "\n",
        "        while i < len(L):\n",
        "            array[k] = L[i]\n",
        "            i += 1\n",
        "            k += 1\n",
        "\n",
        "        while j < len(R):\n",
        "            array[k] = R[j]\n",
        "            j += 1\n",
        "            k += 1\n",
        "    return array\n"
      ]
    },
    {
      "cell_type": "code",
      "execution_count": null,
      "id": "3e345ede",
      "metadata": {
        "id": "3e345ede",
        "outputId": "b5281a99-f715-4281-b286-ec289013dc89"
      },
      "outputs": [
        {
          "name": "stdout",
          "output_type": "stream",
          "text": [
            "[1, 5, 6, 9, 10, 12]\n"
          ]
        }
      ],
      "source": [
        "array = [6, 5, 12, 10, 9, 1]\n",
        "print(mergeSort(array))"
      ]
    },
    {
      "cell_type": "code",
      "execution_count": null,
      "id": "3e323a61",
      "metadata": {
        "id": "3e323a61"
      },
      "outputs": [],
      "source": [
        ""
      ]
    }
  ],
  "metadata": {
    "kernelspec": {
      "display_name": "Python 3 (ipykernel)",
      "language": "python",
      "name": "python3"
    },
    "language_info": {
      "codemirror_mode": {
        "name": "ipython",
        "version": 3
      },
      "file_extension": ".py",
      "mimetype": "text/x-python",
      "name": "python",
      "nbconvert_exporter": "python",
      "pygments_lexer": "ipython3",
      "version": "3.9.7"
    },
    "colab": {
      "name": "Lab3_Answers_YassminaAbdo.ipynb",
      "provenance": [],
      "include_colab_link": true
    }
  },
  "nbformat": 4,
  "nbformat_minor": 5
}